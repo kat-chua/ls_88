{
 "cells": [
  {
   "cell_type": "markdown",
   "metadata": {},
   "source": [
    "# Importing Libraries"
   ]
  },
  {
   "cell_type": "code",
   "execution_count": 124,
   "metadata": {
    "collapsed": true
   },
   "outputs": [],
   "source": [
    "# Importing libraries\n",
    "from datascience import *\n",
    "import matplotlib.pyplot as plt\n",
    "import numpy as np\n",
    "import re"
   ]
  },
  {
   "cell_type": "code",
   "execution_count": 125,
   "metadata": {
    "collapsed": true
   },
   "outputs": [],
   "source": [
    "# Importing web-scraping tools\n",
    "from bs4 import BeautifulSoup\n",
    "from urllib.request import urlopen"
   ]
  },
  {
   "cell_type": "markdown",
   "metadata": {},
   "source": [
    "# Collecting Corpus"
   ]
  },
  {
   "cell_type": "code",
   "execution_count": 128,
   "metadata": {
    "collapsed": true
   },
   "outputs": [],
   "source": [
    "# Broadway musical songs belonging to the romance category\n",
    "romance = ['https://www.allmusicals.com/lyrics/misssaigon/thelastnightoftheworld.htm', \n",
    "          'https://www.allmusicals.com/lyrics/kissmekate/soinlove.htm', \n",
    "          'https://www.allmusicals.com/lyrics/songdance/unexpectedsong.htm', \n",
    "          'https://www.allmusicals.com/lyrics/musicmanthe/tilltherewasyou.htm', \n",
    "          'https://www.allmusicals.com/lyrics/anythinggoes/easytolove.htm', \n",
    "          'https://www.allmusicals.com/lyrics/waitress/youmattertome.htm',\n",
    "          'https://www.allmusicals.com/lyrics/shelovesme/vanillaicecream.htm',\n",
    "          'https://www.allmusicals.com/lyrics/rent/illcoveryou.htm',\n",
    "          'https://www.allmusicals.com/lyrics/lacageauxfolles/songonthesandladadada.htm',\n",
    "          'https://www.allmusicals.com/lyrics/passion/lovingyou.htm',\n",
    "          'https://www.allmusicals.com/lyrics/guysanddolls/ifiwereabell.htm',\n",
    "          'https://www.allmusicals.com/lyrics/introusers/whizzergoingdown.htm',\n",
    "          'https://www.allmusicals.com/lyrics/nexttonormal/hey3perfectforyoureprise.htm', \n",
    "          'https://www.allmusicals.com/lyrics/colorpurplethe/whataboutlove.htm', \n",
    "          'https://www.allmusicals.com/lyrics/baby/ichoseright.htm',\n",
    "          'https://www.allmusicals.com/lyrics/oklahoma/peoplewillsaywereinlove.htm',\n",
    "          'https://www.allmusicals.com/lyrics/fiddlerontheroof/doyouloveme.htm',\n",
    "          'https://www.allmusicals.com/lyrics/anyonecanwhistle/withsolittletobesureof.htm',\n",
    "          'https://www.allmusicals.com/lyrics/natashapierreandthegreatcometof1812/nooneelse.htm',\n",
    "          'https://www.allmusicals.com/lyrics/sweeneytoddthedemonbarberoffleetstreet/johanna.htm', \n",
    "          'https://www.allmusicals.com/lyrics/cinderellasongsfromtheclassicfairytale/alovelynighttenminutesago.htm',\n",
    "          'https://www.allmusicals.com/lyrics/secretgardenthe/howcouldieverknow.htm',\n",
    "          'https://www.allmusicals.com/lyrics/mackmabel/iwontsendroses.htm',\n",
    "          'https://www.allmusicals.com/lyrics/newbraina/idratherbesailing.htm',\n",
    "          'https://www.allmusicals.com/lyrics/parade/allthewastedtime.htm',\n",
    "          'https://www.allmusicals.com/lyrics/fullmontythe/youwalkwithme.htm',\n",
    "          'https://www.allmusicals.com/lyrics/lesmiserables/onmyown.htm',\n",
    "          'https://www.allmusicals.com/lyrics/hedwigandtheangryinch/theoriginoflove.htm',\n",
    "          'https://www.allmusicals.com/lyrics/westsidestory/somewhere.htm',\n",
    "          'https://www.allmusicals.com/lyrics/nine/unusualway.htm', \n",
    "          'https://www.allmusicals.com/lyrics/assassins/unworthyofyourlove.htm', \n",
    "          'https://www.allmusicals.com/lyrics/littleshopofhorrors/suddenlyseymour.htm',\n",
    "          'https://www.allmusicals.com/lyrics/rodgersandhammersteinssouthpacific/someenchantedevening.htm', \n",
    "          'https://www.allmusicals.com/lyrics/funhome/changingmymajor.htm',\n",
    "           'https://www.allmusicals.com/lyrics/follies/toomanymornings.htm',\n",
    "           'https://www.allmusicals.com/lyrics/carousel/ifilovedyou.htm',\n",
    "           'https://www.allmusicals.com/lyrics/kingandithe/somethingwonderful.htm',\n",
    "           'https://www.allmusicals.com/lyrics/falsettos/whatmorecanisay.htm', \n",
    "           'https://www.allmusicals.com/lyrics/paljoey/bewitchedbotheredandbewildered.htm',\n",
    "           'https://www.allmusicals.com/lyrics/showboat/bill.htm',\n",
    "           'https://www.allmusicals.com/lyrics/lightinthepiazza/sayitsomehow.htm',\n",
    "           'https://www.allmusicals.com/lyrics/sunsetboulevard/toomuchinlovetocare.htm',\n",
    "           'https://www.allmusicals.com/lyrics/fantasticksthe/soonitsgonnarain.htm',\n",
    "           'https://www.allmusicals.com/lyrics/wicked/aslongasyouremine.htm',\n",
    "           'https://www.allmusicals.com/lyrics/last5yearsthe/thenexttenminutes.htm',\n",
    "          ]"
   ]
  },
  {
   "cell_type": "code",
   "execution_count": 153,
   "metadata": {
    "collapsed": true
   },
   "outputs": [],
   "source": [
    "# Broadway songs belonging to all categories except for the romance category and \"I want\" song category\n",
    "mixed = ['https://www.allmusicals.com/lyrics/sundayintheparkwithgeorge/finishingthehat.htm',\n",
    "         'https://www.allmusicals.com/lyrics/intothewoods/finalechildrenwilllisten.htm',\n",
    "         'https://www.allmusicals.com/lyrics/intothewoods/onthestepsofthepalace.htm',\n",
    "         'https://www.allmusicals.com/lyrics/bookofmormonthe/ibelieve.htm',\n",
    "         'https://www.allmusicals.com/lyrics/littleshopofhorrors/skidrowdowntown.htm',\n",
    "         'https://www.allmusicals.com/lyrics/sweeneytoddthedemonbarberoffleetstreet/alittlepriest.htm',\n",
    "         'https://www.allmusicals.com/h/hamilton.htm',\n",
    "         'https://www.allmusicals.com/lyrics/lacageauxfolles/iamwhatiam.htm',\n",
    "         'https://www.allmusicals.com/lyrics/lesmiserables/onedaymore.htm',\n",
    "         'https://www.allmusicals.com/lyrics/sweeneytoddthedemonbarberoffleetstreet/johanna.htm',\n",
    "         'https://www.allmusicals.com/lyrics/hedwigandtheangryinch/wiginabox.htm',\n",
    "         'https://www.allmusicals.com/lyrics/dreamgirls/andiamtellingyouimnotgoing.htm',\n",
    "         'https://www.allmusicals.com/lyrics/sundayintheparkwithgeorge/sunday.htm',\n",
    "         'https://www.allmusicals.com/lyrics/disneysbeautyandthebeast/beautyandthebeast.htm',\n",
    "         'https://www.allmusicals.com/lyrics/littlemermaid/poorunfortunatesouls.htm',\n",
    "         'https://www.allmusicals.com/lyrics/merrilywerollalong/goodthinggoing.htm',\n",
    "         'https://www.allmusicals.com/lyrics/evita/dontcryformeargentina.htm',\n",
    "         'https://www.allmusicals.com/lyrics/sunsetboulevard/asifweneversaidgoodbye.htm',\n",
    "         'https://www.allmusicals.com/lyrics/ragtime/backtobefore.htm',\n",
    "         'https://www.allmusicals.com/lyrics/rent/takemeorleaveme.htm',\n",
    "         'https://www.allmusicals.com/lyrics/wicked/defyinggravity.htm',\n",
    "         'https://www.allmusicals.com/lyrics/avenueq/everyonesalittlebitracist.htm',\n",
    "         'https://www.allmusicals.com/lyrics/gypsy/rosesturn.htm',\n",
    "         'https://www.allmusicals.com/c/cabaret.htm',\n",
    "         'https://www.allmusicals.com/lyrics/hamilton/satisfied.htm',\n",
    "         'https://www.allmusicals.com/lyrics/follies/losingmymind.htm',\n",
    "         'https://www.allmusicals.com/lyrics/follies/couldileaveyou.htm',\n",
    "         'https://www.allmusicals.com/lyrics/kinkyboots/thehistoryofwrongguys.htm',\n",
    "         'https://www.allmusicals.com/lyrics/gentlemansguidetoloveandmurdera/ivedecidedtomarryyou.htm',\n",
    "         'https://www.allmusicals.com/lyrics/mammamia/mammamia.htm',\n",
    "         'https://www.allmusicals.com/lyrics/company/ladieswholunch.htm',\n",
    "        'https://www.allmusicals.com/lyrics/follies/broadwaybaby.htm',\n",
    "        'https://www.allmusicals.com/lyrics/evita/idbesurprisinglygoodforyou.htm',\n",
    "         'https://www.allmusicals.com/lyrics/beautifulthecaroleking/youvegotafriend.htm',\n",
    "         'https://www.allmusicals.com/lyrics/thoroughlymodernmillie/forgetabouttheboy.htm',\n",
    "         'https://www.allmusicals.com/lyrics/bandstand/whoiwas.htm',\n",
    "         'https://www.allmusicals.com/lyrics/legallyblonde/takeitlikeaman.htm',\n",
    "         'https://www.allmusicals.com/lyrics/last5yearsthe/asummerinohio.htm',\n",
    "         'https://www.allmusicals.com/lyrics/littlenightmusic/theglamorouslife.htm',\n",
    "         'https://www.allmusicals.com/lyrics/littlewomen/herealone.htm',\n",
    "         'https://www.allmusicals.com/lyrics/youreagoodmancharliebrown/mynewphilosophy.htm',\n",
    "         'https://www.allmusicals.com/lyrics/ticktickboom/nomore.htm',\n",
    "         'https://www.allmusicals.com/lyrics/intothewoods/iknowthingsnow.htm',\n",
    "         'https://www.allmusicals.com/lyrics/rent/outtonight.htm',\n",
    "         'https://www.allmusicals.com/lyrics/nexttonormal/imissthemountains.htm',\n",
    "]"
   ]
  },
  {
   "cell_type": "code",
   "execution_count": 129,
   "metadata": {
    "collapsed": true
   },
   "outputs": [],
   "source": [
    "# Broadway musical songs belonging to the \"I want\" song category\n",
    "want = ['https://www.allmusicals.com/lyrics/pippin/cornerofthesky.htm', \n",
    "               'https://www.allmusicals.com/lyrics/wicked/thewizardandi.htm',\n",
    "               'https://www.allmusicals.com/lyrics/company/marrymealittle.htm',\n",
    "               'https://www.allmusicals.com/lyrics/disney60yearsofmusicalmagic/justaroundtheriverbendpocahontas.htm', \n",
    "               'https://www.allmusicals.com/lyrics/westsidestory/somethingscoming.htm', \n",
    "               'https://www.allmusicals.com/lyrics/onceonthisisland/waitingforlife.htm',\n",
    "               'https://www.allmusicals.com/lyrics/company/marrymealittle.htm', \n",
    "               'https://www.allmusicals.com/lyrics/rent/onesongglory.htm', \n",
    "               'https://www.allmusicals.com/lyrics/anastasia/journeytothepast.htm',\n",
    "               'https://www.allmusicals.com/lyrics/myfairlady/wouldntitbeloverly.htm',\n",
    "               'https://www.allmusicals.com/lyrics/disney60yearsofmusicalmagic/outtherethehunchbackofnotredame.htm', \n",
    "               'https://www.allmusicals.com/lyrics/fame/iwanttomakemagic.htm',\n",
    "               'https://www.allmusicals.com/lyrics/oliver/whereislove.htm',\n",
    "               'https://www.allmusicals.com/lyrics/littleshopofhorrors/somewherethatsgreen.htm',\n",
    "               'https://www.allmusicals.com/lyrics/soundofmusicthe/soundofmusic.htm',\n",
    "               'https://www.allmusicals.com/lyrics/producers/iwannabeaproducer.htm',\n",
    "               'https://www.allmusicals.com/lyrics/chicago/roxie.htm',\n",
    "               'https://www.allmusicals.com/lyrics/hairspray/goodmorningbaltimore.htm',\n",
    "               'https://www.allmusicals.com/lyrics/merrilywerollalong/ourtime.htm',\n",
    "               'https://www.allmusicals.com/lyrics/cabaret/maybethistime.htm',\n",
    "               'https://www.allmusicals.com/lyrics/hellodolly/putonyoursundayclothes.htm',\n",
    "               'https://www.allmusicals.com/lyrics/thoroughlymodernmillie/notforthelifeofme.htm',\n",
    "               'https://www.allmusicals.com/lyrics/mame/openanewwindow.htm',\n",
    "               'https://www.allmusicals.com/lyrics/byebyebirdie/englishteacher.htm', \n",
    "               'https://www.allmusicals.com/lyrics/gypsy/somepeople.htm',\n",
    "               'https://www.allmusicals.com/lyrics/wizardofozthe/overtherainbow.htm',\n",
    "                'https://www.allmusicals.com/lyrics/funhome/ringofkeys.htm',\n",
    "               'https://www.allmusicals.com/lyrics/drowsychaperonethe/showoff.htm',\n",
    "               'https://www.allmusicals.com/lyrics/carnival/mira.htm',\n",
    "               'https://www.allmusicals.com/lyrics/choruslinea/ihopeigetit.htm',\n",
    "               'https://www.allmusicals.com/lyrics/chess/therussianandmolokovwhereiwanttobe.htm',\n",
    "               'https://www.allmusicals.com/lyrics/littlemermaid/partofyourworld.htm',\n",
    "               'https://www.allmusicals.com/lyrics/lionking/ijustcantwaittobeking.htm', \n",
    "               'https://www.allmusicals.com/lyrics/dearevanhansen/wavingthroughawindow.htm', \n",
    "               'https://www.allmusicals.com/lyrics/bookofmormonthe/youandmebutmostlyme.htm',\n",
    "               'https://www.allmusicals.com/lyrics/intheheights/itwontbelongnow.htm',\n",
    "               'https://www.allmusicals.com/lyrics/avenueq/purpose.htm', \n",
    "               'https://www.allmusicals.com/lyrics/batboy/letmewalkamongyou.htm',\n",
    "               'https://www.allmusicals.com/lyrics/littlewomen/astonishing.htm', \n",
    "               'https://www.allmusicals.com/lyrics/smash/letmebeyourstar.htm', \n",
    "               'https://www.allmusicals.com/lyrics/waitress/whatbakingcando.htm',\n",
    "               'https://www.allmusicals.com/lyrics/newsies/santafe.htm', \n",
    "               'https://www.allmusicals.com/lyrics/gentlemansguidetoloveandmurdera/foolishtothink.htm',\n",
    "               'https://www.allmusicals.com/lyrics/13/thelamestplaceintheworld.htm',\n",
    "               'https://www.allmusicals.com/lyrics/hamilton/myshot.htm', \n",
    "]"
   ]
  },
  {
   "cell_type": "code",
   "execution_count": 92,
   "metadata": {
    "collapsed": false
   },
   "outputs": [
    {
     "name": "stdout",
     "output_type": "stream",
     "text": [
      "45 45 45\n"
     ]
    }
   ],
   "source": [
    "# Checking for even list lengths \n",
    "print(len(romance), len(want), len(mixed))"
   ]
  },
  {
   "cell_type": "markdown",
   "metadata": {},
   "source": [
    "# Web-scraping from All Musicals"
   ]
  },
  {
   "cell_type": "code",
   "execution_count": 93,
   "metadata": {
    "collapsed": false
   },
   "outputs": [],
   "source": [
    "# Web-scraping \"I want\" song lyrics\n",
    "want_data = []\n",
    "for url in want:\n",
    "    page = urlopen(url)\n",
    "    soup = BeautifulSoup(page, 'html.parser')    \n",
    "    song_lyrics = soup.find('div', attrs={'id':'page'})\n",
    "    song_lyrics = song_lyrics.text.strip() \n",
    "    want_data.append(song_lyrics)"
   ]
  },
  {
   "cell_type": "code",
   "execution_count": 94,
   "metadata": {
    "collapsed": false
   },
   "outputs": [],
   "source": [
    "# Web-scraping romance song lyrics\n",
    "romance_data = []\n",
    "for url in romance:\n",
    "    page = urlopen(url)\n",
    "    soup = BeautifulSoup(page, 'html.parser')    \n",
    "    song_lyrics = soup.find('div', attrs={'id':'page'})\n",
    "    song_lyrics = song_lyrics.text.strip() \n",
    "    romance_data.append(song_lyrics)"
   ]
  },
  {
   "cell_type": "markdown",
   "metadata": {},
   "source": [
    "# Data Cleaning"
   ]
  },
  {
   "cell_type": "code",
   "execution_count": 96,
   "metadata": {
    "collapsed": true
   },
   "outputs": [],
   "source": [
    "# Defining function to remove punctuation and digits from lyrics\n",
    "from string import punctuation, digits\n",
    "\n",
    "def remove_punctuation(string):\n",
    "    without_punctuation = \"\".join((char for char in string if char not in punctuation + digits))\n",
    "    return without_punctuation.lstrip('  ')"
   ]
  },
  {
   "cell_type": "code",
   "execution_count": 98,
   "metadata": {
    "collapsed": false
   },
   "outputs": [],
   "source": [
    "# Defining function to remove punctuation and white space, split lines of each \"I want\" song\n",
    "def formatting(): \n",
    "    formatted = []\n",
    "    for song in want_data: \n",
    "        without_punctuation = remove_punctuation(song)\n",
    "        split_lines = without_punctuation.replace('\\r', '').replace('\\n', ' ')\n",
    "        formatted.append(split_lines)\n",
    "    return formatted"
   ]
  },
  {
   "cell_type": "code",
   "execution_count": 99,
   "metadata": {
    "collapsed": false
   },
   "outputs": [],
   "source": [
    "# Defining function to remove punctuation and white space, split lines of each romance song\n",
    "def formatting2(): \n",
    "    formatted = []\n",
    "    for song in romance_data: \n",
    "        without_punctuation = remove_punctuation(song)\n",
    "        split_lines = without_punctuation.replace('\\r', '').replace('\\n', ' ')\n",
    "        formatted.append(split_lines)\n",
    "    return formatted"
   ]
  },
  {
   "cell_type": "code",
   "execution_count": 100,
   "metadata": {
    "collapsed": false
   },
   "outputs": [],
   "source": [
    "# Implementing above functions\n",
    "formatted_texts = formatting()\n",
    "formatted_texts2 = formatting2()"
   ]
  },
  {
   "cell_type": "markdown",
   "metadata": {},
   "source": [
    "# Conforming Data to Classification Jupyter Notebook's Format"
   ]
  },
  {
   "cell_type": "code",
   "execution_count": 111,
   "metadata": {
    "collapsed": false
   },
   "outputs": [],
   "source": [
    "# Creating lists of \"judgements\" aka song category labels\n",
    "judge = []\n",
    "x = 1\n",
    "while x != 46:\n",
    "    judge.append('want')\n",
    "    x+=1\n",
    "    \n",
    "judge2 = []\n",
    "x = 1\n",
    "while x != 46:\n",
    "    judge.append('romance')\n",
    "    x+=1"
   ]
  },
  {
   "cell_type": "code",
   "execution_count": 112,
   "metadata": {
    "collapsed": true
   },
   "outputs": [],
   "source": [
    "# Joining the \"want\" and \"romance\" labels together into one list\n",
    "judgements = judge + judge2"
   ]
  },
  {
   "cell_type": "code",
   "execution_count": 113,
   "metadata": {
    "collapsed": false
   },
   "outputs": [],
   "source": [
    "# Joining the \"want\" and \"romance\" song lyrics together into one list\n",
    "texts = formatted_texts + formatted_texts2"
   ]
  },
  {
   "cell_type": "code",
   "execution_count": 114,
   "metadata": {
    "collapsed": false,
    "scrolled": false
   },
   "outputs": [
    {
     "data": {
      "text/html": [
       "<table border=\"1\" class=\"dataframe\">\n",
       "    <thead>\n",
       "        <tr>\n",
       "            <th>category</th> <th>lyrics</th>\n",
       "        </tr>\n",
       "    </thead>\n",
       "    <tbody>\n",
       "        <tr>\n",
       "            <td>want    </td> <td>Corner Of The Sky                    PIPPIN Everything h ...</td>\n",
       "        </tr>\n",
       "    </tbody>\n",
       "        <tr>\n",
       "            <td>want    </td> <td>The Wizard and I                    MADAME MORRIBLE spok ...</td>\n",
       "        </tr>\n",
       "    </tbody>\n",
       "        <tr>\n",
       "            <td>want    </td> <td>Marry Me a Little                    ROBERT Marry me a l ...</td>\n",
       "        </tr>\n",
       "    </tbody>\n",
       "        <tr>\n",
       "            <td>want    </td> <td>Just Around the Riverbend Pocahontas                     ...</td>\n",
       "        </tr>\n",
       "    </tbody>\n",
       "        <tr>\n",
       "            <td>want    </td> <td>Somethings Coming                    TONY  Could be  Who ...</td>\n",
       "        </tr>\n",
       "    </tbody>\n",
       "        <tr>\n",
       "            <td>want    </td> <td>Waiting for Life                    TI MOUNE A stranger  ...</td>\n",
       "        </tr>\n",
       "    </tbody>\n",
       "        <tr>\n",
       "            <td>want    </td> <td>Marry Me a Little                    ROBERT Marry me a l ...</td>\n",
       "        </tr>\n",
       "    </tbody>\n",
       "        <tr>\n",
       "            <td>want    </td> <td>One Song Glory                    ROGER  One song Glory  ...</td>\n",
       "        </tr>\n",
       "    </tbody>\n",
       "        <tr>\n",
       "            <td>want    </td> <td>Journey to the Past                    Heart dont fail m ...</td>\n",
       "        </tr>\n",
       "    </tbody>\n",
       "        <tr>\n",
       "            <td>want    </td> <td>Wouldnt It Be Loverly                    Its rather dull ...</td>\n",
       "        </tr>\n",
       "    </tbody>\n",
       "</table>\n",
       "<p>... (80 rows omitted)</p"
      ],
      "text/plain": [
       "category | lyrics\n",
       "want     | Corner Of The Sky                    PIPPIN Everything h ...\n",
       "want     | The Wizard and I                    MADAME MORRIBLE spok ...\n",
       "want     | Marry Me a Little                    ROBERT Marry me a l ...\n",
       "want     | Just Around the Riverbend Pocahontas                     ...\n",
       "want     | Somethings Coming                    TONY  Could be  Who ...\n",
       "want     | Waiting for Life                    TI MOUNE A stranger  ...\n",
       "want     | Marry Me a Little                    ROBERT Marry me a l ...\n",
       "want     | One Song Glory                    ROGER  One song Glory  ...\n",
       "want     | Journey to the Past                    Heart dont fail m ...\n",
       "want     | Wouldnt It Be Loverly                    Its rather dull ...\n",
       "... (80 rows omitted)"
      ]
     },
     "execution_count": 114,
     "metadata": {},
     "output_type": "execute_result"
    }
   ],
   "source": [
    "# Viz\n",
    "masterlist = Table().with_columns(\n",
    "    'category', judgements, \n",
    "    'lyrics', texts)\n",
    "\n",
    "masterlist"
   ]
  },
  {
   "cell_type": "markdown",
   "metadata": {},
   "source": [
    "# Classifier Building"
   ]
  },
  {
   "cell_type": "code",
   "execution_count": 132,
   "metadata": {
    "collapsed": true
   },
   "outputs": [],
   "source": [
    "# Importing machine-learning library\n",
    "from sklearn.utils import shuffle"
   ]
  },
  {
   "cell_type": "code",
   "execution_count": 133,
   "metadata": {
    "collapsed": false
   },
   "outputs": [],
   "source": [
    "# Setting random state and shuffling\n",
    "np.random.seed(1)\n",
    "\n",
    "X, y = shuffle(texts, judgements, random_state=0)"
   ]
  },
  {
   "cell_type": "code",
   "execution_count": 139,
   "metadata": {
    "collapsed": false
   },
   "outputs": [
    {
     "data": {
      "text/plain": [
       "('Marry Me a Little                    ROBERT Marry me a little  Love me just enough  Cry but not too often  Play but not too rough  Keep a tender distance  so well both be free  Thats the way it ought to be  Im ready  Marry me a little  Do it with a will  Make a few demands  Im able to fulfill  Want me more than others  Not exclusively  Thats the way it ought to be  Im ready  Im ready now   You can be my best friend  I can be your right arm  Well go through a fight or two  No harm no harm  Well look not too deep  Well go not too far  We wont have to give up a thing  Well stay who we are  Right  Okay then  Im ready  Im ready now   Someone  Marry me a little  Love me just enough  Warm and sweet and easy  Just the simple stuff  Keep a tender distance  So well both be free  Thats the way it ought to be  Im ready   Marry me a little  Body heart and soul  Passionate as hell  But always in control  Want me first and foremost  Keep me company  Thats the way it ought to be  Im ready  Im ready now   Oh how gently well talk  Oh how softly well tread  All the stings  The ugly things  Well keep unsaid  Well build a cocoon  Of love and respect  You promise whatever you like  Ill never collect  Right  Okay then  Im ready  Im ready now  Someone   Im ready  Last Update June th ',\n",
       " 'want')"
      ]
     },
     "execution_count": 139,
     "metadata": {},
     "output_type": "execute_result"
    }
   ],
   "source": [
    "# Proof of shuffling\n",
    "X[0], y[0]"
   ]
  },
  {
   "cell_type": "code",
   "execution_count": 140,
   "metadata": {
    "collapsed": true
   },
   "outputs": [],
   "source": [
    "# Importing machine learning tools\n",
    "from sklearn.pipeline import Pipeline\n",
    "from sklearn.feature_extraction.text import TfidfVectorizer, CountVectorizer, TfidfTransformer\n",
    "from sklearn.linear_model import LogisticRegression\n",
    "from sklearn.model_selection import cross_val_score, train_test_split"
   ]
  },
  {
   "cell_type": "code",
   "execution_count": 141,
   "metadata": {
    "collapsed": false
   },
   "outputs": [
    {
     "name": "stdout",
     "output_type": "stream",
     "text": [
      "[ 0.88888889  0.88888889  0.77777778  0.61111111  0.94444444] 0.822222222222\n"
     ]
    }
   ],
   "source": [
    "text_clf = Pipeline([('vect', CountVectorizer(ngram_range=(1, 2))),\n",
    "                    ('tfidf', TfidfTransformer()),\n",
    "                    ('clf', LogisticRegression(random_state=0, penalty='l2', C=1000))\n",
    "                     ])\n",
    "\n",
    "scores = cross_val_score(text_clf, X, y, cv=5)\n",
    "\n",
    "print(scores, np.mean(scores))"
   ]
  },
  {
   "cell_type": "code",
   "execution_count": 142,
   "metadata": {
    "collapsed": false
   },
   "outputs": [
    {
     "data": {
      "text/plain": [
       "0.88888888888888884"
      ]
     },
     "execution_count": 142,
     "metadata": {},
     "output_type": "execute_result"
    }
   ],
   "source": [
    "X_train, X_test, y_train, y_test = train_test_split(X, y, test_size=0.2, random_state=50)\n",
    "\n",
    "# get tfidf values\n",
    "tfidf = TfidfVectorizer()\n",
    "tfidf.fit(X)\n",
    "X_train = tfidf.transform(X_train)\n",
    "X_test = tfidf.transform(X_test)\n",
    "\n",
    "# build and test logit\n",
    "logit_class = LogisticRegression(random_state=0, penalty='l2', C=1000)\n",
    "model = logit_class.fit(X_train, y_train)\n",
    "model.score(X_test, y_test)"
   ]
  },
  {
   "cell_type": "code",
   "execution_count": 138,
   "metadata": {
    "collapsed": false
   },
   "outputs": [
    {
     "name": "stdout",
     "output_type": "stream",
     "text": [
      "Top features for positive reviews:\n",
      "['ready', 'from', 'to', 'glory', 'she', 'elder', 'make', 'wizard', 'where', 'the']\n",
      "\n",
      "Top features for negative reviews:\n",
      "['you', 'love', 'da', 'rain', 'id', 'us', 'never', 'was', 'him', 'somehow']\n"
     ]
    }
   ],
   "source": [
    "feature_names = tfidf.get_feature_names()\n",
    "top10pos = np.argsort(model.coef_[0])[-10:]\n",
    "print(\"Top features for positive reviews:\")\n",
    "print(list(feature_names[j] for j in top10pos))\n",
    "print()\n",
    "print(\"Top features for negative reviews:\")\n",
    "top10neg = np.argsort(model.coef_[0])[:10]\n",
    "print(list(feature_names[j] for j in top10neg))"
   ]
  },
  {
   "cell_type": "markdown",
   "metadata": {},
   "source": [
    "# Testing"
   ]
  },
  {
   "cell_type": "code",
   "execution_count": null,
   "metadata": {
    "collapsed": true
   },
   "outputs": [],
   "source": [
    "new_want_song = ___\n",
    "\n",
    "features = tfidf.transform([new_want_song])\n",
    "\n",
    "model.predict(features)"
   ]
  },
  {
   "cell_type": "code",
   "execution_count": null,
   "metadata": {
    "collapsed": true
   },
   "outputs": [],
   "source": [
    "new_want_song = ___\n",
    "\n",
    "features = tfidf.transform([new_want_song])\n",
    "\n",
    "model.predict(features)"
   ]
  },
  {
   "cell_type": "code",
   "execution_count": null,
   "metadata": {
    "collapsed": true
   },
   "outputs": [],
   "source": [
    "new_want_song = ___\n",
    "\n",
    "features = tfidf.transform([new_want_song])\n",
    "\n",
    "model.predict(features)"
   ]
  }
 ],
 "metadata": {
  "kernelspec": {
   "display_name": "Python 3",
   "language": "python",
   "name": "python3"
  },
  "language_info": {
   "codemirror_mode": {
    "name": "ipython",
    "version": 3
   },
   "file_extension": ".py",
   "mimetype": "text/x-python",
   "name": "python",
   "nbconvert_exporter": "python",
   "pygments_lexer": "ipython3",
   "version": "3.6.0"
  }
 },
 "nbformat": 4,
 "nbformat_minor": 2
}
